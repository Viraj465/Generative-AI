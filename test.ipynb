{
 "cells": [
  {
   "cell_type": "markdown",
   "metadata": {},
   "source": [
    "# Positional and keyword Args Functions"
   ]
  },
  {
   "cell_type": "code",
   "execution_count": 1,
   "metadata": {},
   "outputs": [
    {
     "name": "stdout",
     "output_type": "stream",
     "text": [
      "1\n",
      "2\n",
      "3\n",
      "4\n",
      "5\n",
      "6\n",
      "7\n",
      "8\n",
      "9\n",
      "viraj\n"
     ]
    }
   ],
   "source": [
    "# variable length Args\n",
    "#  positional and keyword args.\n",
    "#  *args and **kwargs for multiple args and keyword args.\n",
    "#  *args and **kwargs are used to pass a variable number of arguments to a function.\n",
    "def print_nums(*args):\n",
    "    for nums in args:\n",
    "        print(nums)\n",
    "print_nums(1,2,3,4,5,6,7,8,9,'viraj')\n"
   ]
  },
  {
   "cell_type": "code",
   "execution_count": 2,
   "metadata": {},
   "outputs": [
    {
     "name": "stdout",
     "output_type": "stream",
     "text": [
      "name: viraj\n",
      "age: 22\n",
      "country: india\n",
      "company: MicroSoft\n"
     ]
    }
   ],
   "source": [
    "def print_keywordArgs(**kwargs):\n",
    "    \"\"\"Prints the keyword arguments passed to the function.\"\"\"\n",
    "    for key, value in kwargs.items():\n",
    "        print(f\"{key}: {value}\")\n",
    "print_keywordArgs(name='viraj',age='22',country='india',company='MicroSoft')"
   ]
  },
  {
   "cell_type": "code",
   "execution_count": 3,
   "metadata": {},
   "outputs": [
    {
     "name": "stdout",
     "output_type": "stream",
     "text": [
      "Positional Args 1\n",
      "Positional Args 2\n",
      "Positional Args 3\n",
      "Positional Args 4\n",
      "Positional Args 4\n",
      "Positional Args 5\n",
      "Positional Args 5\n",
      "Positional Args 6\n",
      "Positional Args 7\n",
      "Positional Args 8\n",
      "Positional Args viraj\n",
      "name: viraj\n",
      "age: 22\n",
      "country: india\n",
      "company: MicroSoft\n"
     ]
    }
   ],
   "source": [
    "def print_keywordArgs(*args, **kwargs):\n",
    "    for num in args:\n",
    "        print(f'Positional Args {num}')\n",
    "    \"\"\"Prints the keyword arguments passed to the function.\"\"\"\n",
    "    for key, value in kwargs.items():\n",
    "        print(f\"{key}: {value}\")\n",
    "print_keywordArgs(1,2,3,4,4,5,5,6,7,8,'viraj',\\\n",
    "                  name='viraj',age='22',country='india',company='MicroSoft')"
   ]
  },
  {
   "cell_type": "markdown",
   "metadata": {},
   "source": [
    "# Lambda Function"
   ]
  },
  {
   "cell_type": "code",
   "execution_count": 4,
   "metadata": {},
   "outputs": [
    {
     "data": {
      "text/plain": [
       "<function __main__.<lambda>(arguments)>"
      ]
     },
     "execution_count": 4,
     "metadata": {},
     "output_type": "execute_result"
    }
   ],
   "source": [
    "# syntax\n",
    "lambda arguments: exps"
   ]
  },
  {
   "cell_type": "code",
   "execution_count": 5,
   "metadata": {},
   "outputs": [
    {
     "name": "stdout",
     "output_type": "stream",
     "text": [
      "<class 'function'>\n",
      "8\n"
     ]
    }
   ],
   "source": [
    "add = lambda a,b:a+b\n",
    "print(type(add))\n",
    "print(add(5,3))"
   ]
  },
  {
   "cell_type": "code",
   "execution_count": 6,
   "metadata": {},
   "outputs": [
    {
     "data": {
      "text/plain": [
       "True"
      ]
     },
     "execution_count": 6,
     "metadata": {},
     "output_type": "execute_result"
    }
   ],
   "source": [
    "even = lambda num: num%2==0\n",
    "even(12)"
   ]
  },
  {
   "cell_type": "code",
   "execution_count": 7,
   "metadata": {},
   "outputs": [
    {
     "data": {
      "text/plain": [
       "[1, 4, 9, 16, 25, 36]"
      ]
     },
     "execution_count": 7,
     "metadata": {},
     "output_type": "execute_result"
    }
   ],
   "source": [
    "nums = [1,2,3,4,5,6]\n",
    "list(map(lambda x:x**2,nums))"
   ]
  },
  {
   "cell_type": "markdown",
   "metadata": {},
   "source": [
    "# Map Function"
   ]
  },
  {
   "cell_type": "code",
   "execution_count": 8,
   "metadata": {},
   "outputs": [
    {
     "data": {
      "text/plain": [
       "[1, 4, 9, 16, 25, 36, 49, 64]"
      ]
     },
     "execution_count": 8,
     "metadata": {},
     "output_type": "execute_result"
    }
   ],
   "source": [
    "nums = [1,2,3,4,5,6,7,8]\n",
    "def square(x):\n",
    "    return x**2\n",
    "a=list(map(square,nums))\n",
    "a"
   ]
  },
  {
   "cell_type": "code",
   "execution_count": 9,
   "metadata": {},
   "outputs": [
    {
     "data": {
      "text/plain": [
       "[1, 4, 9, 16, 25, 36, 49, 64]"
      ]
     },
     "execution_count": 9,
     "metadata": {},
     "output_type": "execute_result"
    }
   ],
   "source": [
    "# lambda with map\n",
    "list(map(lambda x:x**2,nums))"
   ]
  },
  {
   "cell_type": "code",
   "execution_count": 10,
   "metadata": {},
   "outputs": [
    {
     "data": {
      "text/plain": [
       "[5, 7, 9]"
      ]
     },
     "execution_count": 10,
     "metadata": {},
     "output_type": "execute_result"
    }
   ],
   "source": [
    "# multiple map iterables\n",
    "nums2 = [4,5,6]\n",
    "nums1 = [1,2,3]\n",
    "add_num = list(map(lambda x,y:x+y,nums1,nums2))\n",
    "add_num"
   ]
  },
  {
   "cell_type": "code",
   "execution_count": 11,
   "metadata": {},
   "outputs": [
    {
     "data": {
      "text/plain": [
       "[1, 2, 3]"
      ]
     },
     "execution_count": 11,
     "metadata": {},
     "output_type": "execute_result"
    }
   ],
   "source": [
    "# map to convert list of string to int\n",
    "words = ['1','2','3']\n",
    "nums_int = list(map(lambda x:int(x), words))\n",
    "nums_int"
   ]
  },
  {
   "cell_type": "markdown",
   "metadata": {},
   "source": [
    "# Filter Function"
   ]
  },
  {
   "cell_type": "code",
   "execution_count": 12,
   "metadata": {},
   "outputs": [
    {
     "data": {
      "text/plain": [
       "34"
      ]
     },
     "execution_count": 12,
     "metadata": {},
     "output_type": "execute_result"
    }
   ],
   "source": [
    "def even(num):\n",
    "    if num%2 == 0:\n",
    "        return num\n",
    "even(34)"
   ]
  },
  {
   "cell_type": "code",
   "execution_count": 13,
   "metadata": {},
   "outputs": [
    {
     "data": {
      "text/plain": [
       "[2, 4, 6, 8, 10, 12]"
      ]
     },
     "execution_count": 13,
     "metadata": {},
     "output_type": "execute_result"
    }
   ],
   "source": [
    "lst = [1,2,3,4,5,6,7,8,9,10,11,12]\n",
    "list(filter(even,lst))"
   ]
  },
  {
   "cell_type": "code",
   "execution_count": 14,
   "metadata": {},
   "outputs": [
    {
     "data": {
      "text/plain": [
       "[6, 7, 8, 9, 10, 11, 12]"
      ]
     },
     "execution_count": 14,
     "metadata": {},
     "output_type": "execute_result"
    }
   ],
   "source": [
    "# filter with lambda\n",
    "greater_than_five = list(filter(lambda x:x>5,lst))\n",
    "greater_than_five"
   ]
  },
  {
   "cell_type": "markdown",
   "metadata": {},
   "source": [
    "# Files and Directrory access"
   ]
  },
  {
   "cell_type": "code",
   "execution_count": 15,
   "metadata": {},
   "outputs": [
    {
     "data": {
      "text/plain": [
       "'c:\\\\Users\\\\Viraj Sawant\\\\Desktop\\\\GEN AI UDEMY'"
      ]
     },
     "execution_count": 15,
     "metadata": {},
     "output_type": "execute_result"
    }
   ],
   "source": [
    "import os\n",
    "os.getcwd() # gets current working directory"
   ]
  },
  {
   "cell_type": "code",
   "execution_count": 16,
   "metadata": {},
   "outputs": [],
   "source": [
    "if not os.path.exists('TestDir'):\n",
    "    os.mkdir('TestDir')"
   ]
  },
  {
   "cell_type": "code",
   "execution_count": 17,
   "metadata": {},
   "outputs": [
    {
     "data": {
      "text/plain": [
       "'dest.txt'"
      ]
     },
     "execution_count": 17,
     "metadata": {},
     "output_type": "execute_result"
    }
   ],
   "source": [
    "import shutil\n",
    "shutil.copyfile('source.txt','dest.txt')"
   ]
  },
  {
   "cell_type": "markdown",
   "metadata": {},
   "source": [
    "# Data Serialization"
   ]
  },
  {
   "cell_type": "code",
   "execution_count": 18,
   "metadata": {},
   "outputs": [
    {
     "name": "stdout",
     "output_type": "stream",
     "text": [
      "{\"name\": \"Viraj Sawant\", \"age\": 22}\n",
      "<class 'str'>\n",
      "{'name': 'Viraj Sawant', 'age': 22}\n",
      "<class 'dict'>\n"
     ]
    }
   ],
   "source": [
    "import json\n",
    "data = {'name':'Viraj Sawant','age':22}\n",
    "json_str = json.dumps(data)\n",
    "print(json_str)\n",
    "print(type(json_str))\n",
    "parsed_data = json.loads(json_str)\n",
    "print(parsed_data)\n",
    "print(type(parsed_data))"
   ]
  },
  {
   "cell_type": "markdown",
   "metadata": {},
   "source": [
    "#  CSV"
   ]
  },
  {
   "cell_type": "code",
   "execution_count": 19,
   "metadata": {},
   "outputs": [
    {
     "name": "stdout",
     "output_type": "stream",
     "text": [
      "['name', 'age']\n",
      "['viraj', '22']\n"
     ]
    }
   ],
   "source": [
    "import csv\n",
    "with open('example.csv', mode='w',newline='') as file:\n",
    "    writer = csv.writer(file)\n",
    "    writer.writerow(['name','age'])\n",
    "    writer.writerow(['viraj','22'])\n",
    "with open('example.csv', mode='r') as file:\n",
    "    reader = csv.reader(file)\n",
    "    for row in reader:\n",
    "        print(row)"
   ]
  },
  {
   "cell_type": "markdown",
   "metadata": {},
   "source": [
    "# Date Time"
   ]
  },
  {
   "cell_type": "code",
   "execution_count": 20,
   "metadata": {},
   "outputs": [
    {
     "data": {
      "text/plain": [
       "datetime.datetime(2024, 8, 20, 11, 36, 7, 605177)"
      ]
     },
     "execution_count": 20,
     "metadata": {},
     "output_type": "execute_result"
    }
   ],
   "source": [
    "from datetime import datetime, timedelta\n",
    "datetime.now()"
   ]
  },
  {
   "cell_type": "code",
   "execution_count": 21,
   "metadata": {},
   "outputs": [
    {
     "data": {
      "text/plain": [
       "'2024-08-19'"
      ]
     },
     "execution_count": 21,
     "metadata": {},
     "output_type": "execute_result"
    }
   ],
   "source": [
    "yesterday = datetime.now()-timedelta(days=1)\n",
    "yesterday = yesterday.strftime('%Y-%m-%d')\n",
    "yesterday"
   ]
  },
  {
   "cell_type": "code",
   "execution_count": 22,
   "metadata": {},
   "outputs": [
    {
     "name": "stdout",
     "output_type": "stream",
     "text": [
      "1724133967.6717143\n",
      "1724133969.672802\n"
     ]
    }
   ],
   "source": [
    "import time\n",
    "print(time.time())\n",
    "time.sleep(2)\n",
    "print(time.time())"
   ]
  },
  {
   "cell_type": "markdown",
   "metadata": {},
   "source": [
    "# REGEX"
   ]
  },
  {
   "cell_type": "code",
   "execution_count": 23,
   "metadata": {},
   "outputs": [
    {
     "name": "stdout",
     "output_type": "stream",
     "text": [
      "['123', '456']\n"
     ]
    }
   ],
   "source": [
    "import re\n",
    "pattern = r'\\d+'\n",
    "text = \"There are 123 apples 456.\"\n",
    "matches = re.findall(pattern, text)\n",
    "print(matches)"
   ]
  },
  {
   "cell_type": "markdown",
   "metadata": {},
   "source": []
  },
  {
   "cell_type": "markdown",
   "metadata": {},
   "source": [
    "# File Operations"
   ]
  },
  {
   "cell_type": "code",
   "execution_count": 24,
   "metadata": {},
   "outputs": [
    {
     "name": "stdout",
     "output_type": "stream",
     "text": [
      "Hello my name is Viraj.I am learning Gen  AI for the Google HackathonLorem ipsum, dolor sit amet consectetur adipisicing elit. Animi iusto voluptatibus dolorem debitis et! Ullam optio at ex voluptatibus sapiente enim ducimus sint deleniti in, fugit vero, maxime, odit facere."
     ]
    }
   ],
   "source": [
    "with open('source.txt','r') as file:\n",
    "    content = file.read()\n",
    "    # print(content)\n",
    "    for line in content:\n",
    "        print(line, end='')"
   ]
  },
  {
   "cell_type": "code",
   "execution_count": 25,
   "metadata": {},
   "outputs": [
    {
     "name": "stdout",
     "output_type": "stream",
     "text": [
      "Hello my name is Viraj.I am learning Gen  AI for the Google HackathonLorem ipsum, dolor sit amet consectetur adipisicing elit. Animi iusto voluptatibus dolorem debitis et! Ullam optio at ex voluptatibus sapiente enim ducimus sint deleniti in, fugit vero, maxime, odit facere.\n"
     ]
    }
   ],
   "source": [
    "with open('source.txt','r') as file:\n",
    "    for line in file:\n",
    "        print(line.strip())"
   ]
  },
  {
   "cell_type": "code",
   "execution_count": 26,
   "metadata": {},
   "outputs": [],
   "source": [
    "with open('source.txt', 'w') as file:\n",
    "    content= \"Hello my name is Viraj.I am learning Gen  AI for the Google Hackathon\"\n",
    "    file.write(content)"
   ]
  },
  {
   "cell_type": "code",
   "execution_count": 27,
   "metadata": {},
   "outputs": [
    {
     "name": "stdout",
     "output_type": "stream",
     "text": [
      "Hello my name is Viraj.I am learning Gen  AI for the Google Hackathon\n"
     ]
    }
   ],
   "source": [
    "with open('source.txt', 'r') as file:\n",
    "    for line in file:\n",
    "        print(line.strip())  # Remove leading/trailing whitespaces"
   ]
  },
  {
   "cell_type": "code",
   "execution_count": 28,
   "metadata": {},
   "outputs": [],
   "source": [
    "with open('source.txt', 'a') as file:\n",
    "    content= \"Lorem ipsum, dolor sit amet consectetur adipisicing elit. Animi iusto voluptatibus dolorem debitis et! Ullam optio at ex voluptatibus sapiente enim ducimus sint deleniti in, fugit vero, maxime, odit facere.\"\n",
    "    file.write(content)"
   ]
  },
  {
   "cell_type": "code",
   "execution_count": 29,
   "metadata": {},
   "outputs": [
    {
     "name": "stdout",
     "output_type": "stream",
     "text": [
      "Hello my name is Viraj.I am learning Gen  AI for the Google HackathonLorem ipsum, dolor sit amet consectetur adipisicing elit. Animi iusto voluptatibus dolorem debitis et! Ullam optio at ex voluptatibus sapiente enim ducimus sint deleniti in, fugit vero, maxime, odit facere.\n"
     ]
    }
   ],
   "source": [
    "with open('source.txt', 'r') as file:\n",
    "    for l in file:\n",
    "        print(l.strip())  # remove leading/trailing whitespace"
   ]
  },
  {
   "cell_type": "code",
   "execution_count": 30,
   "metadata": {},
   "outputs": [],
   "source": [
    "# writing a data into binary form\n",
    "os.getcwd()\n",
    "try:\n",
    "    if not os.path.exists('binaryfile.bin'):\n",
    "        open('binaryfile.bin','wb').close()\n",
    "except OSError as e:\n",
    "    print(f\"{e} is the error encountered.\")"
   ]
  },
  {
   "cell_type": "code",
   "execution_count": 31,
   "metadata": {},
   "outputs": [
    {
     "name": "stdout",
     "output_type": "stream",
     "text": [
      "b'\\x00\\x01\\x02\\x03'\n"
     ]
    }
   ],
   "source": [
    "data = b'\\x00\\x01\\x02\\x03'\n",
    "with open('binaryfile.bin','wb') as f:\n",
    "    f.write(data)\n",
    "with open('binaryfile.bin','rb') as f:\n",
    "    data = f.read()\n",
    "    print(data)"
   ]
  },
  {
   "cell_type": "markdown",
   "metadata": {},
   "source": [
    "# Working with Dirs"
   ]
  },
  {
   "cell_type": "code",
   "execution_count": 32,
   "metadata": {},
   "outputs": [
    {
     "data": {
      "text/plain": [
       "['binaryfile.bin',\n",
       " 'dest.txt',\n",
       " 'example.csv',\n",
       " 'index.html',\n",
       " 'requirements.txt',\n",
       " 'source.txt',\n",
       " 'test.ipynb',\n",
       " 'TestDir',\n",
       " 'venv']"
      ]
     },
     "execution_count": 32,
     "metadata": {},
     "output_type": "execute_result"
    }
   ],
   "source": [
    "items = os.listdir('.')\n",
    "items"
   ]
  },
  {
   "cell_type": "markdown",
   "metadata": {},
   "source": [
    "# Exception Handling"
   ]
  },
  {
   "cell_type": "code",
   "execution_count": 33,
   "metadata": {},
   "outputs": [
    {
     "name": "stdout",
     "output_type": "stream",
     "text": [
      "ZeroDivisionError: division by zero\n"
     ]
    }
   ],
   "source": [
    "try:\n",
    "    a=1/0\n",
    "except Exception as ex:\n",
    "    print(f\"{type(ex).__name__}: {ex}\")"
   ]
  },
  {
   "cell_type": "code",
   "execution_count": 34,
   "metadata": {},
   "outputs": [
    {
     "name": "stdout",
     "output_type": "stream",
     "text": [
      "The result is: 0.18181818181818182\n"
     ]
    }
   ],
   "source": [
    "try:\n",
    "    num = int(input(\"Enter a Number: \"))\n",
    "    res = 10/num\n",
    "except Exception as ex:\n",
    "    print(f\"{type(ex).__name__}: {ex}\")\n",
    "    num = int(input('Re-enter the number: '))\n",
    "    res = 10/num\n",
    "else:\n",
    "    print(f\"The result is: {res}\")"
   ]
  },
  {
   "cell_type": "code",
   "execution_count": 35,
   "metadata": {},
   "outputs": [
    {
     "name": "stdout",
     "output_type": "stream",
     "text": [
      "The result is: 0.2222222222222222\n"
     ]
    }
   ],
   "source": [
    "# above proper version\n",
    "while True:\n",
    "    try:\n",
    "        num = int(input(\"Enter a Number: \"))\n",
    "        res = 10 / num\n",
    "        break  # Exit the loop if no exception occurs\n",
    "    except Exception as ex:\n",
    "        print(f\"{type(ex).__name__}: {ex}\")\n",
    "\n",
    "print(f\"The result is: {res}\")\n"
   ]
  },
  {
   "cell_type": "markdown",
   "metadata": {},
   "source": [
    "# Object Oriented programming"
   ]
  },
  {
   "cell_type": "code",
   "execution_count": 36,
   "metadata": {},
   "outputs": [
    {
     "name": "stdout",
     "output_type": "stream",
     "text": [
      "<class '__main__.Car'>\n"
     ]
    }
   ],
   "source": [
    "class Car:\n",
    "    pass\n",
    "audi = Car()\n",
    "bmw = Car()\n",
    "print(type(audi))"
   ]
  },
  {
   "cell_type": "code",
   "execution_count": 37,
   "metadata": {},
   "outputs": [
    {
     "name": "stdout",
     "output_type": "stream",
     "text": [
      "4\n",
      "4\n",
      "****************************************\n"
     ]
    }
   ],
   "source": [
    "#Instances and variable method. not proper\n",
    "#1.1\n",
    "audi.windows = 4\n",
    "audi.doors = 4\n",
    "#1.2\n",
    "print(audi.windows) #4\n",
    "print(audi.doors) #4\n",
    "print('*'*40)\n",
    "# Proper way\n"
   ]
  },
  {
   "cell_type": "code",
   "execution_count": 38,
   "metadata": {},
   "outputs": [
    {
     "name": "stdout",
     "output_type": "stream",
     "text": [
      "<__main__.Car object at 0x0000022492C99F70>\n",
      ",<__main__.Car object at 0x0000022492C9AE10>\n",
      ",<__main__.Car object at 0x0000022492C99EE0>\n"
     ]
    }
   ],
   "source": [
    "# dir(audi)\n",
    "class Car:\n",
    "    # constructor\n",
    "    def __init__(self,brand,doors,windows):\n",
    "        self.brand = brand\n",
    "        self.doors = doors\n",
    "        self.windows = windows\n",
    "# Creating objects\n",
    "audi = Car('Audi', 4, 4)\n",
    "bmw = Car('BMW',2,2)\n",
    "ferrari = Car('Ferrari',2,2)\n",
    "print(f\"{audi}\\n,{bmw}\\n,{ferrari}\")"
   ]
  },
  {
   "cell_type": "code",
   "execution_count": 39,
   "metadata": {},
   "outputs": [
    {
     "name": "stdout",
     "output_type": "stream",
     "text": [
      "v is studying in xyz university.\n"
     ]
    }
   ],
   "source": [
    "# class with instance\n",
    "class MyClass:\n",
    "    # self is used so that it can be used anywhere in te class.\n",
    "    def __init__(self, name, age):\n",
    "        # name and age are instancevar\n",
    "        self.name = name\n",
    "        self.age = age\n",
    "    def Edu(self):\n",
    "        # here same brcomes instance method\n",
    "        print(f\"{self.name} is studying in xyz university.\")\n",
    "myclass = MyClass('v',23)\n",
    "myclass.Edu()"
   ]
  },
  {
   "cell_type": "markdown",
   "metadata": {},
   "source": [
    "<h3>Inheritance</h3>"
   ]
  },
  {
   "cell_type": "code",
   "execution_count": 40,
   "metadata": {},
   "outputs": [
    {
     "name": "stdout",
     "output_type": "stream",
     "text": [
      "The person dirves the petrol car.\n"
     ]
    }
   ],
   "source": [
    "\n",
    "#  Parent class\n",
    "class Cars:\n",
    "    def __init__(self,doors,windows,enginetype):\n",
    "        self.doors = doors\n",
    "        self.windows = windows\n",
    "        self.enginetype = enginetype\n",
    "    \n",
    "    def drive(self):\n",
    "        print(f\"The person dirves the {self.enginetype} car.\")\n",
    "\n",
    "\n",
    "car1 = Cars(4,4,\"petrol\")\n",
    "car1.drive()"
   ]
  },
  {
   "cell_type": "code",
   "execution_count": 41,
   "metadata": {},
   "outputs": [
    {
     "data": {
      "text/plain": [
       "'yellow hybrid electric'"
      ]
     },
     "execution_count": 41,
     "metadata": {},
     "output_type": "execute_result"
    }
   ],
   "source": [
    "# single inherit\n",
    "\n",
    "class Tesla(Cars):\n",
    "    def __init__(self,doors,windows,enginetype, color, model, year, mileage):\n",
    "        super().__init__(doors,windows,enginetype) # This is used to call the parent class\n",
    "        self.color = color\n",
    "        self.model = model\n",
    "        self.year = year\n",
    "        self.mileage = mileage\n",
    "\n",
    "    def colorModel(self):\n",
    "        return f\"{self.color} {self.model} {self.enginetype}\"\n",
    "    \n",
    "tesla1 = Tesla(4,4,\"electric\",\"yellow\",\"hybrid\",2019,80)\n",
    "tesla1.colorModel()\n"
   ]
  },
  {
   "cell_type": "code",
   "execution_count": 42,
   "metadata": {},
   "outputs": [
    {
     "name": "stdout",
     "output_type": "stream",
     "text": [
      "Vehicle started\n",
      "Vehicle stopped\n",
      "Vehicle started\n",
      "Vehicle stopped\n",
      "Car door opened\n",
      "Motorcycle accelerated\n"
     ]
    }
   ],
   "source": [
    "class Vehicle:\n",
    "    def __init__(self, color):\n",
    "        self.color = color\n",
    "\n",
    "    def start(self):\n",
    "        print(\"Vehicle started\")\n",
    "\n",
    "    def stop(self):\n",
    "        print(\"Vehicle stopped\")\n",
    "\n",
    "class Car(Vehicle):\n",
    "    def __init__(self, color, num_doors):\n",
    "        super().__init__(color)\n",
    "        self.num_doors = num_doors\n",
    "\n",
    "    def open_door(self):\n",
    "        print(\"Car door opened\")\n",
    "\n",
    "class Motorcycle(Vehicle):\n",
    "    def __init__(self, color, has_sidecar):\n",
    "        super().__init__(color)\n",
    "        self.has_sidecar = has_sidecar\n",
    "\n",
    "    def accelerate(self):\n",
    "        print(\"Motorcycle accelerated\")\n",
    "\n",
    "class TrafficController:\n",
    "    def handle_vehicle(self, vehicle):\n",
    "        vehicle.start()\n",
    "        # Other traffic control logic\n",
    "        vehicle.stop()\n",
    "\n",
    "# Example usage:\n",
    "car = Car(\"red\", 4)\n",
    "motorcycle = Motorcycle(\"black\", False)\n",
    "\n",
    "traffic_controller = TrafficController()\n",
    "traffic_controller.handle_vehicle(car)\n",
    "traffic_controller.handle_vehicle(motorcycle)\n",
    "car.open_door()\n",
    "motorcycle.accelerate()"
   ]
  },
  {
   "cell_type": "markdown",
   "metadata": {},
   "source": [
    "# Polymorphism"
   ]
  },
  {
   "cell_type": "markdown",
   "metadata": {},
   "source": [
    "Polymorphism is a concept in oops that allows objs of different classes to be treated as objs of common super class."
   ]
  },
  {
   "cell_type": "code",
   "execution_count": 45,
   "metadata": {},
   "outputs": [
    {
     "name": "stdout",
     "output_type": "stream",
     "text": [
      "Bark.\n",
      "Meow.\n",
      "Bark.\n"
     ]
    }
   ],
   "source": [
    "### Method Overriding and Interfaces used.\n",
    "'''Method Overriding - allows child class to provide \n",
    "specific implementation of method that is already \n",
    "defined in its parent class'''\n",
    "# base class\n",
    "class Animal:\n",
    "    def speak(self):\n",
    "        return \"Sound of animal.\"\n",
    "\n",
    "# derv. class\n",
    "class Dog(Animal):\n",
    "    def speak(self):\n",
    "        return \"Bark.\"\n",
    "    \n",
    "# derv class\n",
    "class Cat(Animal):\n",
    "    def speak(self):\n",
    "        return \"Meow.\"\n",
    "\n",
    "# function that demonstrates polymorphism\n",
    "# 'animal' is obj\n",
    "def make_sound(animal):\n",
    "    print(animal.speak())\n",
    "\n",
    "# obj\n",
    "dog = Dog()\n",
    "cat = Cat()\n",
    "print(dog.speak())\n",
    "print(cat.speak())\n",
    "make_sound(dog)\n"
   ]
  },
  {
   "cell_type": "code",
   "execution_count": 46,
   "metadata": {},
   "outputs": [
    {
     "name": "stdout",
     "output_type": "stream",
     "text": [
      "40\n",
      "77.5\n"
     ]
    }
   ],
   "source": [
    "### Polymorphism with Functions and methods.\n",
    "\n",
    "class Shape:\n",
    "    def area(self):\n",
    "        return f\"area of figure\"\n",
    "class Rectangle(Shape):\n",
    "    def __init__(self,width,height):\n",
    "        self.width = width\n",
    "        self.height = height\n",
    "    \n",
    "    def area(self):\n",
    "        return self.width * self.height\n",
    "class Circle(Shape):\n",
    "    def __init__(self,radius):\n",
    "        self.radius = radius\n",
    "    def area(self):\n",
    "        return self.radius*self.radius*3.1\n",
    "    \n",
    "# function which demonstrates polymorphism\n",
    "def calculate_area(shape):\n",
    "    return shape.area()\n",
    "\n",
    "rectangle = Rectangle(5,8)\n",
    "circle = Circle(5)\n",
    "print(calculate_area(rectangle)) # prints 40\n",
    "print(calculate_area(circle)) # prints 76.5"
   ]
  },
  {
   "cell_type": "code",
   "execution_count": 47,
   "metadata": {},
   "outputs": [
    {
     "name": "stdout",
     "output_type": "stream",
     "text": [
      "78.5\n"
     ]
    },
    {
     "data": {
      "text/plain": [
       "25"
      ]
     },
     "execution_count": 47,
     "metadata": {},
     "output_type": "execute_result"
    }
   ],
   "source": [
    "### Polymorphism with abstract base class\n",
    "# In this example, we will use an abstract base class to \n",
    "# define the interface of the polymorphic objects\n",
    "\n",
    "from abc import ABC, abstractmethod #abstractmethod is kind of decorator\n",
    "# Define abstract class\n",
    "class Shape(ABC):\n",
    "    # abstract method\n",
    "    @abstractmethod \n",
    "    def area(self):\n",
    "        pass\n",
    "# Define concrete classes\n",
    "class Circle(Shape):\n",
    "    def area(self):\n",
    "        return 3.14 * 5 * 5\n",
    "class Rectangle(Shape):\n",
    "    def __init__(self,width,height):\n",
    "        self.width = width\n",
    "        self.height = height\n",
    "    def area(self):\n",
    "        return self.width*self.height\n",
    "    \n",
    "# create objs\n",
    "circle = Circle()\n",
    "rectangle = Rectangle(5,5)\n",
    "# polymorphism\n",
    "print(circle.area())\n",
    "rectangle.area()"
   ]
  },
  {
   "cell_type": "markdown",
   "metadata": {},
   "source": [
    "# Encapsulation and Abstraction"
   ]
  },
  {
   "cell_type": "code",
   "execution_count": 60,
   "metadata": {},
   "outputs": [
    {
     "name": "stdout",
     "output_type": "stream",
     "text": [
      "<__main__.Person object at 0x0000022492F1C8F0>\n"
     ]
    },
    {
     "data": {
      "text/plain": [
       "'Viraj'"
      ]
     },
     "execution_count": 60,
     "metadata": {},
     "output_type": "execute_result"
    }
   ],
   "source": [
    "'''Encapsulation is concept of wroaaping the data vairlables and methods(func) together as a single unit. \n",
    "Restircts direct access to some of the objects component, \n",
    "which is a mean of preventing accidental interfence and misuse of data.'''\n",
    "#encapsulation is done using getter nd setter method\n",
    "# public, protect and private variables\n",
    "\n",
    "class Person:\n",
    "    def __init__(self,name,age):\n",
    "        self.name=name #public vars\n",
    "        self.age=age #public vars\n",
    "\n",
    "def get_name(person):\n",
    "    return person.name\n",
    "person = Person(\"Viraj\",23)\n",
    "print(person)\n",
    "get_name(person)"
   ]
  },
  {
   "cell_type": "code",
   "execution_count": null,
   "metadata": {},
   "outputs": [],
   "source": [
    "dir(person)"
   ]
  },
  {
   "cell_type": "code",
   "execution_count": 64,
   "metadata": {},
   "outputs": [
    {
     "name": "stdout",
     "output_type": "stream",
     "text": [
      "<__main__.PrivPerson object at 0x0000022492C37860>\n"
     ]
    }
   ],
   "source": [
    "class PrivPerson:\n",
    "    def __init__(self,name,age):\n",
    "        self.__name=name #private vars\n",
    "        self.__age=age #private vars\n",
    "\n",
    "def get_privname(privperson):\n",
    "    return privperson.__name\n",
    "privperson = PrivPerson(\"Viraj\",23)\n",
    "print(privperson)\n",
    "# dir(privperson)"
   ]
  },
  {
   "cell_type": "code",
   "execution_count": 68,
   "metadata": {},
   "outputs": [
    {
     "name": "stdout",
     "output_type": "stream",
     "text": [
      "Viraj\n",
      "23\n",
      "5000000\n"
     ]
    }
   ],
   "source": [
    "class ProtPerson:\n",
    "    def __init__(self,name,age):\n",
    "        self._name=name #protected vars\n",
    "        self._age=age #protected vars\n",
    "\n",
    "class Employee(ProtPerson):\n",
    "    def __init__(self, name, age, salary):\n",
    "        super().__init__(name, age) #calling parent class constructor\n",
    "        self._salary=salary #protected vars\n",
    "\n",
    "emp = Employee(\"Viraj\",23,5000000)\n",
    "print(emp._name) #accessing protected vars\n",
    "print(emp._age)\n",
    "print(emp._salary)\n",
    "# def get_protname(protperson):\n",
    "#     return protperson._name\n",
    "# protperson = ProtPerson(\"Viraj\",23)\n",
    "# print(protperson)\n",
    "# print(dir(protperson))\n",
    "# print(get_protname(protperson)) #AttributeError: 'ProtPerson' object has no"
   ]
  },
  {
   "cell_type": "code",
   "execution_count": 71,
   "metadata": {},
   "outputs": [
    {
     "name": "stdout",
     "output_type": "stream",
     "text": [
      "John\n",
      "John\n",
      "Viraj Sawant\n"
     ]
    }
   ],
   "source": [
    "# With Getter and Setter\n",
    "class Employee:\n",
    "    def __init__(self, name, age, salary):\n",
    "        self.__name = name #private access modifieror var\n",
    "        self.__age = age\n",
    "        self.__salary = salary\n",
    "    \n",
    "    # getter method\n",
    "    def get_name(self):\n",
    "        return self.__name\n",
    "    # setter method\n",
    "    def set_name(self, name):\n",
    "        self.__name = name\n",
    "    \n",
    "\n",
    "# create obj\n",
    "emp = Employee(\"John\", 30, 5000.0)\n",
    "print(emp.get_name()) # John\n",
    "# print(emp.__name) # AttributeError: 'Employee' object has no attribute '__name'\n",
    "print(emp._Employee__name) # John\n",
    "emp.set_name('Viraj Sawant')\n",
    "print(emp.get_name()) # Viraj\n"
   ]
  },
  {
   "cell_type": "code",
   "execution_count": 72,
   "metadata": {},
   "outputs": [
    {
     "name": "stdout",
     "output_type": "stream",
     "text": [
      "15\n",
      "25.13272\n"
     ]
    }
   ],
   "source": [
    "### Absraction\n",
    "from abc import ABC, abstractmethod\n",
    "\n",
    "class Shape(ABC):\n",
    "    @abstractmethod\n",
    "    def area(self):\n",
    "        pass\n",
    "\n",
    "    @abstractmethod\n",
    "    def perimeter(self):\n",
    "        pass\n",
    "\n",
    "class Rectangle(Shape):\n",
    "    def __init__(self, length, width):\n",
    "        self.length = length\n",
    "        self.width = width\n",
    "\n",
    "    def area(self):\n",
    "        return self.length * self.width\n",
    "\n",
    "    def perimeter(self):\n",
    "        return 2 * (self.length + self.width)\n",
    "\n",
    "class Circle(Shape):\n",
    "    def __init__(self, radius):\n",
    "        self.radius = radius\n",
    "\n",
    "    def area(self):\n",
    "        return 3.14159 * self.radius * self.radius\n",
    "\n",
    "    def perimeter(self):\n",
    "        return 2 * 3.14159 * self.radius\n",
    "\n",
    "# Create objects of concrete classes\n",
    "rect = Rectangle(5, 3)\n",
    "circle = Circle(4)\n",
    "\n",
    "print(rect.area())  # Output: 15\n",
    "print(circle.perimeter())  # Output: 25.13272\n"
   ]
  },
  {
   "cell_type": "code",
   "execution_count": null,
   "metadata": {},
   "outputs": [],
   "source": [
    "from abc import ABC, abstractmethod\n",
    "\n",
    "class WashingMachine(ABC):\n",
    "    \"\"\"Abstract base class for washing machines.\"\"\"\n",
    "\n",
    "    @abstractmethod\n",
    "    def start(self):\n",
    "        \"\"\"Starts the washing machine.\"\"\"\n",
    "        pass\n",
    "\n",
    "    @abstractmethod\n",
    "    def stop(self):\n",
    "        \"\"\"Stops the washing machine.\"\"\"\n",
    "        pass\n",
    "\n",
    "    @abstractmethod\n",
    "    def set_wash_cycle(self, cycle):\n",
    "        \"\"\"Sets the wash cycle.\"\"\"\n",
    "        pass\n",
    "\n",
    "    @abstractmethod\n",
    "    def set_water_temperature(self, temperature):\n",
    "        \"\"\"Sets the water temperature.\"\"\"\n",
    "        pass\n",
    "\n",
    "    @abstractmethod\n",
    "    def set_spin_speed(self, speed):\n",
    "        \"\"\"Sets the spin speed.\"\"\"\n",
    "        pass"
   ]
  },
  {
   "cell_type": "code",
   "execution_count": null,
   "metadata": {},
   "outputs": [],
   "source": [
    "class FrontLoadWashingMachine(WashingMachine):\n",
    "    # Implementation for front load washing machine\n",
    "    def start(self):\n",
    "        # Specific logic for starting a front load machine\n",
    "        pass\n",
    "\n",
    "    # ... other methods ...\n",
    "\n",
    "class TopLoadWashingMachine(WashingMachine):\n",
    "    # Implementation for top load washing machine\n",
    "    def start(self):\n",
    "        # Specific logic for starting a top load machine\n",
    "        pass\n",
    "\n",
    "    # ... other methods ..."
   ]
  },
  {
   "cell_type": "markdown",
   "metadata": {},
   "source": [
    "# Magic Method"
   ]
  },
  {
   "cell_type": "code",
   "execution_count": 75,
   "metadata": {},
   "outputs": [
    {
     "name": "stdout",
     "output_type": "stream",
     "text": [
      "4 + 1i\n",
      "2 + 3i\n",
      "5 + -1i\n",
      "0.5 + 2.5i\n"
     ]
    }
   ],
   "source": [
    "# double underscore method\n",
    "class Complex:\n",
    "    def __init__(self, real, imag):\n",
    "        self.real = real\n",
    "        self.imag = imag\n",
    "\n",
    "    def __str__(self):\n",
    "        return f\"{self.real} + {self.imag}i\"\n",
    "\n",
    "    # Addition\n",
    "    def __add__(self, other):\n",
    "        return Complex(self.real + other.real, self.imag + other.imag)\n",
    "\n",
    "    # Subtraction\n",
    "    def __sub__(self, other):\n",
    "        return Complex(self.real - other.real, self.imag - other.imag)\n",
    "\n",
    "    # Multiplication\n",
    "    def __mul__(self, other):\n",
    "        real = self.real * other.real - self.imag * other.imag\n",
    "        imag = self.real * other.imag + self.imag * other.real\n",
    "        return Complex(real, imag)\n",
    "\n",
    "    # Division\n",
    "    def __truediv__(self, other):\n",
    "        denominator = other.real**2 + other.imag**2\n",
    "        real = (self.real * other.real + self.imag * other.imag) / denominator\n",
    "        imag = (self.imag * other.real - self.real * other.imag) / denominator\n",
    "        return Complex(real, imag)\n",
    "\n",
    "# Example usage\n",
    "c1 = Complex(3, 2)\n",
    "c2 = Complex(1, -1)\n",
    "\n",
    "print(c1 + c2)  # Output: 4 + 1i\n",
    "print(c1 - c2)  # Output: 2 + 3i\n",
    "print(c1 * c2)  # Output: 5 + 1i\n",
    "print(c1 / c2)  # Output: 0.5 + 1.5i"
   ]
  },
  {
   "cell_type": "code",
   "execution_count": null,
   "metadata": {},
   "outputs": [],
   "source": []
  }
 ],
 "metadata": {
  "kernelspec": {
   "display_name": "venv",
   "language": "python",
   "name": "python3"
  },
  "language_info": {
   "codemirror_mode": {
    "name": "ipython",
    "version": 3
   },
   "file_extension": ".py",
   "mimetype": "text/x-python",
   "name": "python",
   "nbconvert_exporter": "python",
   "pygments_lexer": "ipython3",
   "version": "3.12.3"
  }
 },
 "nbformat": 4,
 "nbformat_minor": 2
}
